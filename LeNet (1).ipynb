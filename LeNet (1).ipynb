{
 "cells": [
  {
   "cell_type": "code",
   "execution_count": null,
   "id": "257d336f",
   "metadata": {},
   "outputs": [],
   "source": [
    "import tensorflow.compat.v1 as tf\n",
    "tf.disable_v2_behavior()"
   ]
  },
  {
   "cell_type": "code",
   "execution_count": null,
   "id": "1a9fceb5",
   "metadata": {},
   "outputs": [],
   "source": [
    "(x_train,y_train),(x_test,y_test)=tf.keras.datasets.mnist.load_data()"
   ]
  },
  {
   "cell_type": "code",
   "execution_count": null,
   "id": "c346509b",
   "metadata": {},
   "outputs": [],
   "source": [
    "X_validation=x_train[:int(0.2*len(x_train))].astype('float32')\n",
    "Y_validation=y_train[:int(0.2*len(y_train))].astype('float32')\n",
    "X_train=x_train[int(0.2*len(x_train)):].astype('float32')\n",
    "Y_train=y_train[int(0.2*len(y_train)):].astype('float32')"
   ]
  },
  {
   "cell_type": "code",
   "execution_count": null,
   "id": "10b2ff20",
   "metadata": {},
   "outputs": [],
   "source": [
    "assert len(X_train)==len(Y_train)==48000\n",
    "assert len(X_validation)==len(Y_validation)==12000"
   ]
  },
  {
   "cell_type": "code",
   "execution_count": null,
   "id": "7c645f50",
   "metadata": {},
   "outputs": [],
   "source": [
    "print()\n",
    "print(\"Image Shape: {}\".format(X_train[0].shape))\n",
    "print()\n",
    "print(\"Training Set: {} samples\".format(len(X_train)))\n",
    "print(\"Validation Set: {} samples\".format(len(X_validation)))\n",
    "print(\"Test Set: {} samples\".format(len(x_test)))"
   ]
  },
  {
   "cell_type": "code",
   "execution_count": null,
   "id": "b6ad5896",
   "metadata": {},
   "outputs": [],
   "source": [
    "import numpy as np\n",
    "X_train=np.pad(X_train,((0,0),(2,2),(2,2)),'constant')\n",
    "X_validation=np.pad(X_validation,((0,0),(2,2),(2,2)),'constant')\n",
    "X_test=np.pad(x_test,((0,0),(2,2),(2,2)),'constant')\n",
    "\n",
    "print(\"Updated image shape: {} \".format(X_train[0].shape))"
   ]
  },
  {
   "cell_type": "code",
   "execution_count": null,
   "id": "e942e25a",
   "metadata": {},
   "outputs": [],
   "source": [
    "import random\n",
    "import matplotlib.pyplot as plt\n",
    "%matplotlib inline\n",
    "\n",
    "index = random.randint(0, len(X_train))\n",
    "image = X_train[index].squeeze()\n",
    "\n",
    "plt.figure(figsize=(1,1))\n",
    "plt.imshow(image, cmap=\"gray\")\n",
    "print(Y_train[index])"
   ]
  },
  {
   "cell_type": "code",
   "execution_count": null,
   "id": "4db89dd2",
   "metadata": {},
   "outputs": [],
   "source": [
    "from sklearn.utils import shuffle\n",
    "X_train,Y_train=shuffle(X_train,Y_train)"
   ]
  },
  {
   "cell_type": "code",
   "execution_count": null,
   "id": "f81a6670",
   "metadata": {},
   "outputs": [],
   "source": [
    "EPOCHS=10\n",
    "BATCH_SIZE=128"
   ]
  },
  {
   "cell_type": "code",
   "execution_count": null,
   "id": "fe3f807e",
   "metadata": {},
   "outputs": [],
   "source": [
    "X_train.shape"
   ]
  },
  {
   "cell_type": "code",
   "execution_count": null,
   "id": "db333213",
   "metadata": {},
   "outputs": [],
   "source": [
    "\n",
    "\n",
    "def LeNet(x):\n",
    "    \n",
    "    #Layer-1: Convolutional: 32*32*1-->28x28x6\n",
    "    weights=tf.Variable(tf.truncated_normal((5,5,1,6)))\n",
    "    bias=tf.Variable(tf.zeros((6)))\n",
    "    convolution1=tf.nn.conv2d(x,weights,strides=[1,1,1,1],padding='VALID')\n",
    "    conv1=tf.nn.bias_add(convolution1,bias)\n",
    "    \n",
    "    #activation\n",
    "    conv1=tf.nn.relu(conv1)\n",
    "    \n",
    "    #Pooling:28x28x6-->14x14x6\n",
    "    conv1_pooled=tf.nn.max_pool(conv1,ksize=[1,2,2,1],strides=[1,2,2,1],padding='SAME')\n",
    "    \n",
    "    #Layer-2\n",
    "    #Convolution:14x14x6-->10x10x16\n",
    "    weights2=tf.Variable(tf.truncated_normal((5,5,6,16)))\n",
    "    bias2=tf.Variable(tf.zeros(16))\n",
    "    convolution2=tf.nn.conv2d(conv1_pooled,weights2,strides=[1,1,1,1],padding='VALID')\n",
    "    convolution2=tf.nn.bias_add(convolution2,bias2)\n",
    "    \n",
    "    #Activation\n",
    "    convolution2=tf.nn.relu(convolution2)\n",
    "    \n",
    "    #Pooling:10x10x16-->5x5x16\n",
    "    convolution2_pooled=tf.nn.max_pool(convolution2,ksize=[1,2,2,1],strides=[1,2,2,1],padding='SAME')\n",
    "    \n",
    "    #flatten\n",
    "    flatten=tf.reshape(convolution2_pooled,(400,1), name=None)\n",
    "    \n",
    "    #fully connected:400-->120\n",
    "    weights3=tf.Variable(tf.truncated_normal((400,120)))\n",
    "    bias3=tf.Variable(tf.zeros(120))\n",
    "    fc1=tf.add(tf.multiply(flatten,weights3),bias3)\n",
    "    \n",
    "    #activation\n",
    "    fc1act=tf.nn.relu(fc1)\n",
    "    \n",
    "    #fully connected:120-->84\n",
    "    weights4=tf.Variable(tf.truncated_normal((120,84)))\n",
    "    bias4=tf.Variable(tf.zeros(84))\n",
    "    fc2=tf.add(tf.multiply(fc1act,weights4),bias4)\n",
    "    \n",
    "    #activation\n",
    "    fc2act=tf.nn.relu(fc2)\n",
    "    \n",
    "    #fully connected: 84-->10\n",
    "    weights5=tf.Variable(tf.truncated_normal((84,10)))\n",
    "    bias5=tf.Variable(tf.zeros(10))\n",
    "    fc3=tf.add(tf.multiply(fc2act,weights5),bias5)\n",
    "    \n",
    "    return fc3\n",
    "    "
   ]
  },
  {
   "cell_type": "code",
   "execution_count": null,
   "id": "8dcc2230",
   "metadata": {},
   "outputs": [],
   "source": [
    "x = tf.placeholder(tf.float32, (None, 32, 32, 1))\n",
    "y = tf.placeholder(tf.int32, (None))\n",
    "one_hot_y = tf.one_hot(y, 10)"
   ]
  },
  {
   "cell_type": "code",
   "execution_count": null,
   "id": "5259ee58",
   "metadata": {},
   "outputs": [],
   "source": [
    "rate = 0.001\n",
    "\n",
    "logits = LeNet(x)\n",
    "cross_entropy = tf.nn.softmax_cross_entropy_with_logits(labels=one_hot_y, logits=logits)\n",
    "loss_operation = tf.reduce_mean(cross_entropy)\n",
    "optimizer = tf.train.AdamOptimizer(learning_rate = rate)\n",
    "training_operation = optimizer.minimize(loss_operation)"
   ]
  },
  {
   "cell_type": "code",
   "execution_count": null,
   "id": "19dbe09e",
   "metadata": {},
   "outputs": [],
   "source": [
    "weights=tf.Variable(tf.truncated_normal((5,5,1,6)))\n",
    "bias=tf.Variable(tf.zeros((6)))\n",
    "convolution1=tf.nn.conv2d(x,weights,strides=[1,1,1,1],padding='VALID')    \n",
    "conv1=tf.nn.bias_add(convolution1,bias)\n",
    "    \n",
    "    #activation\n",
    "conv1=tf.nn.relu(conv1)\n",
    "    \n",
    "    #Pooling:28x28x6-->14x14x6\n",
    "conv1_pooled=tf.nn.max_pool(conv1,ksize=[1,2,2,1],strides=[1,2,2,1],padding='SAME')\n",
    "    \n",
    "    #Layer-2\n",
    "    #Convolution:14x14x6-->10x10x16\n",
    "weights2=tf.Variable(tf.truncated_normal((5,5,6,16)))\n",
    "bias2=tf.Variable(tf.zeros(16))\n",
    "convolution2=tf.nn.conv2d(conv1_pooled,weights2,strides=[1,1,1,1],padding='VALID')\n",
    "convolution2=tf.nn.bias_add(convolution2,bias2)\n",
    "    \n",
    "    #Activation\n",
    "convolution2=tf.nn.relu(convolution2)\n",
    "    \n",
    "    #Pooling:10x10x16-->5x5x16\n",
    "convolution2_pooled=tf.nn.max_pool(convolution2,ksize=[1,2,2,1],strides=[1,2,2,1],padding='SAME')\n",
    "convolution2_pooled.shape\n",
    "flatten=tf.reshape(convolution2_pooled,[-1,400])\n",
    "flatten.shape"
   ]
  },
  {
   "cell_type": "code",
   "execution_count": null,
   "id": "c1941f92",
   "metadata": {},
   "outputs": [],
   "source": [
    "weights3=tf.Variable(tf.truncated_normal((400,120)))\n",
    "bias3=tf.Variable(tf.zeros(120))\n",
    "fc1=tf.add(tf.multiply(tf.transpose(flatten),weights3),bias3)"
   ]
  },
  {
   "cell_type": "code",
   "execution_count": null,
   "id": "11dbb3d2",
   "metadata": {},
   "outputs": [],
   "source": [
    "bias3.shape"
   ]
  },
  {
   "cell_type": "code",
   "execution_count": null,
   "id": "6340785a",
   "metadata": {},
   "outputs": [],
   "source": [
    "fc1.shape"
   ]
  },
  {
   "cell_type": "code",
   "execution_count": null,
   "id": "571d75e3",
   "metadata": {},
   "outputs": [],
   "source": []
  }
 ],
 "metadata": {
  "kernelspec": {
   "display_name": "Python 3 (ipykernel)",
   "language": "python",
   "name": "python3"
  },
  "language_info": {
   "codemirror_mode": {
    "name": "ipython",
    "version": 3
   },
   "file_extension": ".py",
   "mimetype": "text/x-python",
   "name": "python",
   "nbconvert_exporter": "python",
   "pygments_lexer": "ipython3",
   "version": "3.9.7"
  }
 },
 "nbformat": 4,
 "nbformat_minor": 5
}
